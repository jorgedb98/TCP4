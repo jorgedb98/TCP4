{
 "cells": [
  {
   "cell_type": "markdown",
   "metadata": {},
   "source": [
    "## 1. INTRODUCCIÓN "
   ]
  },
  {
   "cell_type": "markdown",
   "metadata": {},
   "source": [
    "El crecimiento y desarrollo de la planta está regulado por factores internos y externos. Las condiciones ambientales determinan la expresión de difernetes factores ambientales por lo que entre dos plantas que presenten el mismo genotipo puede haber diferencias fenotípicas. En la respuesta a factores ambientales están involucradas principalmente por hormonas como las auxinas, giberelinas, citoquininas y brasinosteroides; en concreto, la auxina\n",
    "resulta esencial en la respuesta a factores como el fototropismo y el gravitropismo.\n",
    "\n",
    "\n"
   ]
  },
  {
   "cell_type": "markdown",
   "metadata": {},
   "source": [
    "Se ha demostrado que la **familia SAUR** (Small Auxin-Uprgulated RNAs) responde de forma muy efectiva a estimulos hormonales. En Arabidopsis thaliana (A. thaliana) se ha descubierto que está familia contiene 79 genes, estando dos tercios de ellos implicados en la respuesta a auxina en determinados tejidos. La expresión de los genes de la familia SAUR da como resultado proteínas que interactúan con proteínas fosfatasas de la familia PP2C-D, inhibiendo su función e impidiendo por tanto la desfosforilación de las ATPasas de protones. Esto provoca una acidificación de la membrana que permite la elongación celular. "
   ]
  },
  {
   "cell_type": "markdown",
   "metadata": {},
   "source": [
    "Además de responder a hormonas, SAUR también responde a factores de transcripción involucrados en el crecimiento como el dominio **FRUITFULL (FUL)** del factor MADS. FUL regula el desarrollo del fruto en A. thaliana y determina tanto el crecimiento como el patrón que sigue el fruto. Los mutantes ful presentan un retraso en la floración y una alteración en la forma de la planta. Se han idenficiado dos genes de la familia SAUR diana del factor FUL, por lo que puede ser que este factor transcripcional no solo esté implicado en el desarrollo del fruto, sino que también presente la capacidad de de regular de forma directa genes implicados en la elongación inducida por luz y hormonas. "
   ]
  },
  {
   "cell_type": "markdown",
   "metadata": {},
   "source": [
    "## 2. OBJETIVO"
   ]
  },
  {
   "cell_type": "markdown",
   "metadata": {},
   "source": []
  },
  {
   "cell_type": "markdown",
   "metadata": {},
   "source": [
    "## 3. ANĹISIS DE CALIDAD"
   ]
  },
  {
   "cell_type": "markdown",
   "metadata": {},
   "source": []
  },
  {
   "cell_type": "markdown",
   "metadata": {},
   "source": []
  },
  {
   "cell_type": "markdown",
   "metadata": {},
   "source": []
  },
  {
   "cell_type": "code",
   "execution_count": null,
   "metadata": {},
   "outputs": [],
   "source": []
  }
 ],
 "metadata": {
  "kernelspec": {
   "display_name": "Python 3",
   "language": "python",
   "name": "python3"
  },
  "language_info": {
   "codemirror_mode": {
    "name": "ipython",
    "version": 3
   },
   "file_extension": ".py",
   "mimetype": "text/x-python",
   "name": "python",
   "nbconvert_exporter": "python",
   "pygments_lexer": "ipython3",
   "version": "3.7.3"
  }
 },
 "nbformat": 4,
 "nbformat_minor": 2
}
